{
 "cells": [
  {
   "cell_type": "code",
   "execution_count": null,
   "metadata": {},
   "outputs": [],
   "source": [
    "from ShortStratergy import get_monthly_returns, run_backtest\n",
    "import pandas as pd\n",
    "\n",
    "leveraged = 'Files/SOXL.csv'\n",
    "inverse = 'Files/SOXS.csv'\n",
    "\n",
    "# leveraged = 'Files/JNUG.csv'\n",
    "# inverse = 'Files/JDST.csv'\n",
    "backtest =run_backtest(leveraged, inverse)"
   ]
  },
  {
   "cell_type": "code",
   "execution_count": null,
   "metadata": {},
   "outputs": [],
   "source": [
    "# --- IMPORTANT: Final Period Profit/Loss Capture ---\n",
    "# This block of code is crucial for ensuring that the profit/loss accumulated\n",
    "# during the *final, partial period* of the backtest is correctly included\n",
    "# in the overall performance metrics.\n",
    "if backtest.leveraged_etf_holdings != 0 or backtest.inverse_etf_holdings != 0:\n",
    "    current_value = (backtest.leveraged_etf_holdings * data_leveraged['Close'].iloc[-1] +\n",
    "                     backtest.inverse_etf_holdings * data_inverse['Close'].iloc[-1])\n",
    "    profit_loss = current_value - (abs(backtest.leveraged_etf_holdings) * data_leveraged['Close'].iloc[backtest.last_trade_index] +\n",
    "                                   abs(backtest.inverse_etf_holdings) * data_inverse['Close'].iloc[backtest.last_trade_index])\n",
    "    backtest.trades_list.append({'Period End Date': data_leveraged.index[-1], 'Profit/Loss': profit_loss})"
   ]
  },
  {
   "cell_type": "code",
   "execution_count": null,
   "metadata": {},
   "outputs": [],
   "source": [
    "backtest['trades']['inverse']"
   ]
  },
  {
   "cell_type": "code",
   "execution_count": 3,
   "metadata": {},
   "outputs": [],
   "source": [
    "lev_trades = pd.DataFrame(backtest['trades']['leveraged'])\n",
    "inv_trades = pd.DataFrame(backtest['trades']['inverse'])"
   ]
  },
  {
   "cell_type": "markdown",
   "metadata": {},
   "source": [
    "# View the trades"
   ]
  },
  {
   "cell_type": "code",
   "execution_count": null,
   "metadata": {},
   "outputs": [],
   "source": [
    "inv_trades"
   ]
  },
  {
   "cell_type": "markdown",
   "metadata": {},
   "source": [
    "# Filter for different types of trades"
   ]
  },
  {
   "cell_type": "code",
   "execution_count": 5,
   "metadata": {},
   "outputs": [],
   "source": [
    "lev_trades_rebalnce = lev_trades.query('trade_type != \"initial\" and trade_type !=\"additional\"')"
   ]
  },
  {
   "cell_type": "code",
   "execution_count": 6,
   "metadata": {},
   "outputs": [],
   "source": [
    "inv_trades_re =inv_trades.query('trade_type != \"initial\" and trade_type !=\"additional\"')"
   ]
  },
  {
   "cell_type": "code",
   "execution_count": null,
   "metadata": {},
   "outputs": [],
   "source": [
    "inv_trades_re"
   ]
  },
  {
   "cell_type": "code",
   "execution_count": null,
   "metadata": {},
   "outputs": [],
   "source": [
    "lev_trades_rebalnce"
   ]
  },
  {
   "cell_type": "markdown",
   "metadata": {},
   "source": [
    "# Calculate the average monthly return"
   ]
  },
  {
   "cell_type": "code",
   "execution_count": 9,
   "metadata": {},
   "outputs": [],
   "source": [
    "import pandas as pd\n",
    "from datetime import datetime\n",
    "\n",
    "def calculate_avg_monthly_returns(df):\n",
    "    \"\"\"\n",
    "    Calculate average monthly returns based on quarterly return percentages.\n",
    "    \n",
    "    Parameters:\n",
    "    df (pd.DataFrame): DataFrame containing 'date' and 'quarter_profit_loss_per' columns\n",
    "    \n",
    "    Returns:\n",
    "    pd.DataFrame: Monthly returns with columns ['month', 'return']\n",
    "    \"\"\"\n",
    "    # Convert date column to datetime if it's not already\n",
    "    df['date'] = pd.to_datetime(df['date'])\n",
    "    \n",
    "    # Get only the rows where quarterly returns are calculated (non-zero)\n",
    "    quarterly_returns = df[df['quarter_profit_loss_per'] != 0].copy()\n",
    "    \n",
    "    # Initialize dict to store results\n",
    "    monthly_returns = {}\n",
    "    \n",
    "    # Process each quarterly return\n",
    "    for i in range(len(quarterly_returns)):\n",
    "        current_row = quarterly_returns.iloc[i]\n",
    "        current_date = current_row['date']\n",
    "        current_return = current_row['quarter_profit_loss_per']\n",
    "        \n",
    "        # If this is the first entry, we need to handle it specially\n",
    "        if i == 0:\n",
    "            # Get the number of months from the first trade to this quarterly return\n",
    "            first_trade_date = df['date'].min()\n",
    "            months_in_first_period = (\n",
    "                (current_date.year - first_trade_date.year) * 12 + \n",
    "                current_date.month - first_trade_date.month + 1\n",
    "            )\n",
    "            monthly_return = current_return / months_in_first_period\n",
    "            \n",
    "            # Distribute this return across the months in the first period\n",
    "            current_month = first_trade_date\n",
    "            while current_month <= current_date:\n",
    "                month_key = current_month.strftime('%Y-%m')\n",
    "                if month_key not in monthly_returns:\n",
    "                    monthly_returns[month_key] = []\n",
    "                monthly_returns[month_key].append(monthly_return)\n",
    "                current_month = (current_month + pd.DateOffset(months=1))\n",
    "        else:\n",
    "            # For subsequent quarters, we'll distribute the return across 3 months\n",
    "            previous_date = quarterly_returns.iloc[i-1]['date']\n",
    "            months_in_period = (\n",
    "                (current_date.year - previous_date.year) * 12 + \n",
    "                current_date.month - previous_date.month + 1\n",
    "            )\n",
    "            monthly_return = current_return / months_in_period\n",
    "            \n",
    "            # Distribute this return across the months in this period\n",
    "            current_month = previous_date + pd.DateOffset(months=1)\n",
    "            while current_month <= current_date:\n",
    "                month_key = current_month.strftime('%Y-%m')\n",
    "                if month_key not in monthly_returns:\n",
    "                    monthly_returns[month_key] = []\n",
    "                monthly_returns[month_key].append(monthly_return)\n",
    "                current_month = (current_month + pd.DateOffset(months=1))\n",
    "    \n",
    "    # Calculate average monthly returns\n",
    "    result_data = []\n",
    "    for month, returns in monthly_returns.items():\n",
    "        result_data.append({\n",
    "            'month': month,\n",
    "            'return': sum(returns) / len(returns)\n",
    "        })\n",
    "    \n",
    "    # Convert to DataFrame and sort by month\n",
    "    result_df = pd.DataFrame(result_data)\n",
    "    result_df = result_df.sort_values('month').reset_index(drop=True)\n",
    "    \n",
    "    return result_df"
   ]
  },
  {
   "cell_type": "code",
   "execution_count": 10,
   "metadata": {},
   "outputs": [],
   "source": [
    "leveraged_monthly_returns = calculate_avg_monthly_returns(lev_trades)\n",
    "inverse_monthly_returns = calculate_avg_monthly_returns(inv_trades)\n"
   ]
  },
  {
   "cell_type": "code",
   "execution_count": null,
   "metadata": {},
   "outputs": [],
   "source": [
    "leveraged_monthly_returns"
   ]
  },
  {
   "cell_type": "code",
   "execution_count": null,
   "metadata": {},
   "outputs": [],
   "source": [
    "inverse_monthly_returns"
   ]
  },
  {
   "cell_type": "markdown",
   "metadata": {},
   "source": [
    "# Calculate the avg quarterly return for both the leveraged and inverse"
   ]
  },
  {
   "cell_type": "code",
   "execution_count": 13,
   "metadata": {},
   "outputs": [],
   "source": [
    "def calculate_combined_returns(leveraged_trades, inverse_trades):\n",
    "    \"\"\"\n",
    "    Combines two dataframes and calculates return percentage based on combined quarter_profit_loss.\n",
    "    \n",
    "    Parameters:\n",
    "    leveraged_trades, inverse_trades (pd.DataFrame): Input dataframes with identical structure\n",
    "    \n",
    "    Returns:\n",
    "    pd.DataFrame: DataFrame with date and return_per columns\n",
    "    \"\"\"\n",
    "    # Concatenate the dataframes\n",
    "    combined_df = pd.concat([leveraged_trades, inverse_trades], ignore_index=True)\n",
    "    \n",
    "    # Group by date and sum the quarter_profit_loss\n",
    "    daily_profits = combined_df.groupby('date')['quarter_profit_loss'].sum()\n",
    "    \n",
    "    # Calculate return percentage\n",
    "    # Creating a new dataframe with date and return_per\n",
    "    result_df = pd.DataFrame({\n",
    "        'date': daily_profits.index,\n",
    "        'return_per_quarter': daily_profits / 2500\n",
    "    }).reset_index(drop=True)\n",
    "    \n",
    "    # Sort by date\n",
    "    result_df = result_df.sort_values('date')\n",
    "    \n",
    "    return result_df"
   ]
  },
  {
   "cell_type": "code",
   "execution_count": null,
   "metadata": {},
   "outputs": [],
   "source": [
    "combined_quarterly_returns = calculate_combined_returns(lev_trades_rebalnce, inv_trades_re)"
   ]
  },
  {
   "cell_type": "code",
   "execution_count": null,
   "metadata": {},
   "outputs": [],
   "source": [
    "combined_quarterly_returns"
   ]
  },
  {
   "cell_type": "code",
   "execution_count": null,
   "metadata": {},
   "outputs": [],
   "source": []
  },
  {
   "cell_type": "markdown",
   "metadata": {},
   "source": [
    "# Calculation of metrics"
   ]
  },
  {
   "cell_type": "code",
   "execution_count": null,
   "metadata": {},
   "outputs": [],
   "source": [
    "# Calculate key financial metrics\n",
    "\n",
    "# 1. Cumulative Returns (starting with 1 to represent portfolio value)\n",
    "portfolio_values = (1 + combined_quarterly_returns['return_per_quarter']).cumprod()\n",
    "cumulative_returns = portfolio_values - 1\n",
    "\n",
    "# 2. Total Return\n",
    "total_return = cumulative_returns.iloc[-1]\n",
    "\n",
    "# 3. Average Quarterly Return\n",
    "avg_quarterly_return = combined_quarterly_returns['return_per_quarter'].mean()\n",
    "\n",
    "# 4. Volatility (Standard Deviation)\n",
    "volatility = combined_quarterly_returns['return_per_quarter'].std()\n",
    "\n",
    "# 5. Maximum Drawdown (corrected calculation)\n",
    "rolling_peak = portfolio_values.expanding().max()\n",
    "drawdowns = (portfolio_values - rolling_peak) / rolling_peak  # Percentage decline from peak\n",
    "max_drawdown = drawdowns.min()\n",
    "\n",
    "# 6. Win Rate (percentage of positive quarters)\n",
    "win_rate = (combined_quarterly_returns['return_per_quarter'] > 0).mean()\n",
    "\n",
    "# 7. Best and Worst Quarters\n",
    "best_quarter = combined_quarterly_returns['return_per_quarter'].max()\n",
    "worst_quarter = combined_quarterly_returns['return_per_quarter'].min()\n",
    "\n",
    "# Create a summary of metrics\n",
    "metrics_summary = pd.Series({\n",
    "    'Total Return': f'{total_return:.2%}',\n",
    "    'Average Quarterly Return': f'{avg_quarterly_return:.2%}',\n",
    "    'Quarterly Volatility': f'{volatility:.2%}',\n",
    "    'Maximum Drawdown': f'{max_drawdown:.2%}',\n",
    "    'Win Rate': f'{win_rate:.2%}',\n",
    "    'Best Quarter': f'{best_quarter:.2%}',\n",
    "    'Worst Quarter': f'{worst_quarter:.2%}'\n",
    "})\n",
    "\n",
    "print(\"Financial Metrics Summary:\")\n",
    "print(metrics_summary)\n"
   ]
  },
  {
   "cell_type": "markdown",
   "metadata": {},
   "source": [
    "# Visulisation of results"
   ]
  },
  {
   "cell_type": "code",
   "execution_count": null,
   "metadata": {},
   "outputs": [],
   "source": [
    "# First let's check our data\n",
    "print(\"Data types:\")\n",
    "print(\"Date dtype:\", combined_quarterly_returns['date'].dtype)\n",
    "print(\"Portfolio values dtype:\", portfolio_values.dtype)\n",
    "print(\"Drawdowns dtype:\", drawdowns.dtype)\n",
    "\n",
    "print(\"\\nFirst few rows of data:\")\n",
    "print(\"Dates:\", combined_quarterly_returns['date'].head())\n",
    "print(\"Portfolio values:\", portfolio_values.head())\n",
    "print(\"Drawdowns:\", drawdowns.head())\n",
    "\n",
    "# Convert date to datetime if it isn't already\n",
    "combined_quarterly_returns['date'] = pd.to_datetime(combined_quarterly_returns['date'])\n",
    "\n",
    "# Create the visualization\n",
    "import matplotlib.pyplot as plt\n",
    "\n",
    "# Create figure and axes with a clean style\n",
    "plt.rcParams['figure.figsize'] = [12, 10]\n",
    "plt.rcParams['axes.grid'] = True\n",
    "plt.rcParams['grid.alpha'] = 0.3\n",
    "plt.rcParams['axes.facecolor'] = 'white'\n",
    "\n",
    "fig, (ax1, ax2) = plt.subplots(2, 1)\n",
    "\n",
    "# Plot portfolio value with explicit datetime conversion\n",
    "ax1.plot(combined_quarterly_returns['date'], portfolio_values.values, \n",
    "         label='Portfolio Value ($)', color='#1f77b4', linewidth=2)\n",
    "ax1.set_title('Portfolio Value Over Time (Starting with $1)', pad=20)\n",
    "ax1.set_xlabel('Date')\n",
    "ax1.set_ylabel('Portfolio Value')\n",
    "ax1.grid(True, alpha=0.3)\n",
    "ax1.legend()\n",
    "\n",
    "# Plot drawdowns with explicit datetime conversion\n",
    "ax2.fill_between(combined_quarterly_returns['date'], drawdowns.values * 100, 0, \n",
    "                 color='red', alpha=0.3, label='Drawdowns')\n",
    "ax2.set_title('Drawdowns Over Time', pad=20)\n",
    "ax2.set_xlabel('Date')\n",
    "ax2.set_ylabel('Drawdown (%)')\n",
    "ax2.grid(True, alpha=0.3)\n",
    "ax2.legend()\n",
    "\n",
    "# Rotate x-axis labels for better readability\n",
    "plt.setp(ax1.get_xticklabels(), rotation=45, ha='right')\n",
    "plt.setp(ax2.get_xticklabels(), rotation=45, ha='right')\n",
    "\n",
    "# Adjust layout to prevent label cutoff\n",
    "plt.tight_layout()\n",
    "\n",
    "# Force display\n",
    "plt.show()\n",
    "print(\"\\nPlot should be displayed above. If not, there might be an issue with the display backend.\")\n"
   ]
  }
 ],
 "metadata": {
  "kernelspec": {
   "display_name": "Python 3",
   "language": "python",
   "name": "python3"
  },
  "language_info": {
   "codemirror_mode": {
    "name": "ipython",
    "version": 3
   },
   "file_extension": ".py",
   "mimetype": "text/x-python",
   "name": "python",
   "nbconvert_exporter": "python",
   "pygments_lexer": "ipython3",
   "version": "3.11.10"
  }
 },
 "nbformat": 4,
 "nbformat_minor": 2
}
